{
  "nbformat": 4,
  "nbformat_minor": 0,
  "metadata": {
    "colab": {
      "name": "Python_assignment2ipynb",
      "provenance": []
    },
    "kernelspec": {
      "name": "python3",
      "display_name": "Python 3"
    },
    "language_info": {
      "name": "python"
    }
  },
  "cells": [
    {
      "cell_type": "code",
      "metadata": {
        "id": "qN3ZxqUrSvHF"
      },
      "source": [
        "#Python-Strings Objects and lists\n",
        "#!.Print the flollowing pattern using nested for loop"
      ],
      "execution_count": 1,
      "outputs": []
    },
    {
      "cell_type": "code",
      "metadata": {
        "colab": {
          "base_uri": "https://localhost:8080/"
        },
        "id": "fWaAqo3kTPWl",
        "outputId": "01a85c9c-5916-4633-8550-1fdcf3bc5bd3"
      },
      "source": [
        "for i in range(0,5):\n",
        "  for j in range(i+1):\n",
        "    print(\"*\",end=\" \")\n",
        "  print()\n",
        "for i in range(6,10):\n",
        "  for j in range(10-i):\n",
        "    print(\"*\",end=\" \")\n",
        "  print()"
      ],
      "execution_count": 9,
      "outputs": [
        {
          "output_type": "stream",
          "name": "stdout",
          "text": [
            "* \n",
            "* * \n",
            "* * * \n",
            "* * * * \n",
            "* * * * * \n",
            "* * * * \n",
            "* * * \n",
            "* * \n",
            "* \n"
          ]
        }
      ]
    },
    {
      "cell_type": "code",
      "metadata": {
        "id": "0iAKN7I0Ur9i"
      },
      "source": [
        "#2.Write a Python program to reverse a word after accepting the input from the user."
      ],
      "execution_count": 10,
      "outputs": []
    },
    {
      "cell_type": "code",
      "metadata": {
        "colab": {
          "base_uri": "https://localhost:8080/"
        },
        "id": "d3DBZk3fWo8D",
        "outputId": "45403beb-cc0c-42f4-df8b-05184c713533"
      },
      "source": [
        "x=input('enter a word')\n",
        "print(x[::-1])"
      ],
      "execution_count": 16,
      "outputs": [
        {
          "output_type": "stream",
          "name": "stdout",
          "text": [
            "enter a wordkaren\n",
            "nerak\n"
          ]
        }
      ]
    }
  ]
}