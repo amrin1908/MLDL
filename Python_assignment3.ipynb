{
  "nbformat": 4,
  "nbformat_minor": 0,
  "metadata": {
    "colab": {
      "name": "Python_assignment3.ipynb",
      "provenance": [],
      "collapsed_sections": []
    },
    "kernelspec": {
      "name": "python3",
      "display_name": "Python 3"
    },
    "language_info": {
      "name": "python"
    }
  },
  "cells": [
    {
      "cell_type": "code",
      "metadata": {
        "id": "MwZWbvW7ZdTC"
      },
      "source": [
        "#Tuples and Sets\n",
        "#1.1Write a Python Program to implement your own myreduce() function which works exactly like Python's built-in function reduce()"
      ],
      "execution_count": 23,
      "outputs": []
    },
    {
      "cell_type": "code",
      "metadata": {
        "colab": {
          "base_uri": "https://localhost:8080/"
        },
        "id": "YOj_b08_Zq1w",
        "outputId": "4baf2ad4-5cc8-4722-9086-c82ecbd9833d"
      },
      "source": [
        "def myreduce(add,seq):\n",
        "  return a\n",
        "def add(a,b):\n",
        "  return a+b\n",
        "seq=[10,15,25,40,10]\n",
        "a=seq[0]\n",
        "for i in range(1,len(seq)):\n",
        "    b=seq[i]\n",
        "    a=add(a,b)\n",
        "print(myreduce(add,seq))\n"
      ],
      "execution_count": 24,
      "outputs": [
        {
          "output_type": "stream",
          "name": "stdout",
          "text": [
            "100\n"
          ]
        }
      ]
    },
    {
      "cell_type": "code",
      "metadata": {
        "id": "72O2camhiGil"
      },
      "source": [
        "#1.2Write a Python program to implement your own myfilter() function which works exactly like Python's built-in function filter()"
      ],
      "execution_count": 25,
      "outputs": []
    },
    {
      "cell_type": "code",
      "metadata": {
        "colab": {
          "base_uri": "https://localhost:8080/"
        },
        "id": "dxATzMM1iSH7",
        "outputId": "4869074d-ae1b-4e8d-8f4c-40700a8bc6d1"
      },
      "source": [
        "def myfilter(is_positive,list_2):\n",
        "    return is_positive(a)\n",
        "list_2=[2,3,-4,-5,6,-7,8,-9,10]\n",
        "list_3=[]\n",
        "def is_positive(a):\n",
        "    for i in list_2:\n",
        "        if i>0:\n",
        "            list_3.append(i)\n",
        "    print(list_3)\n",
        "myfilter(is_positive,list_2)\n",
        "\n"
      ],
      "execution_count": 30,
      "outputs": [
        {
          "output_type": "stream",
          "name": "stdout",
          "text": [
            "[2, 3, 6, 8, 10]\n"
          ]
        }
      ]
    },
    {
      "cell_type": "code",
      "metadata": {
        "id": "C87JmL-Ft0RH"
      },
      "source": [
        "#2.Implement List comprehensions to produce the following lists."
      ],
      "execution_count": 29,
      "outputs": []
    },
    {
      "cell_type": "code",
      "metadata": {
        "colab": {
          "base_uri": "https://localhost:8080/"
        },
        "id": "lCt2CiGCuBnL",
        "outputId": "fe9b31a9-8a67-466a-8c79-e62fc9bcc0e8"
      },
      "source": [
        "#l=['x', 'xx', 'xxx', 'xxxx', 'y', 'yy', 'yyy', 'yyyy', 'z', 'zz', 'zzz', 'zzzz']\n",
        "l2=[\"x\",\"y\",\"z\"]\n",
        "l1=[i*num for i in l2 for num in range(1,5)]\n",
        "print(l1)\n",
        "#l=['x', 'y', 'z', 'xx', 'yy', 'zz', 'xxx', 'yyy', 'zzz', 'xxxx', 'yyyy', 'zzzz']\n",
        "l3=[i*num for num in range(1,5) for i in l2]\n",
        "print(l3)\n",
        "#l=[[2], [3], [4], [3], [4], [5], [4], [5], [6]]\n",
        "l4=[2,3,4]\n",
        "l5=[[i+j] for i in l4 for j in range(0,3)]\n",
        "print(l5)\n",
        "#l=[[2, 3, 4, 5], [3, 4, 5, 6],[4, 5, 6, 7], [5, 6, 7, 8]]\n",
        "l6=[2,3,4,5]\n",
        "l7=[[i+j for i in l6] for j in range(0,4)]\n",
        "print(l7)\n",
        "#l=[(1, 1), (2, 1), (3, 1), (1, 2), (2, 2), (3, 2), (1, 3), (2, 3), (3, 3)]\n",
        "l8=[1,2,3]\n",
        "l9=[(i,j) for j in l8 for i in l8]\n",
        "print(l9)"
      ],
      "execution_count": 50,
      "outputs": [
        {
          "output_type": "stream",
          "name": "stdout",
          "text": [
            "['x', 'xx', 'xxx', 'xxxx', 'y', 'yy', 'yyy', 'yyyy', 'z', 'zz', 'zzz', 'zzzz']\n",
            "['x', 'y', 'z', 'xx', 'yy', 'zz', 'xxx', 'yyy', 'zzz', 'xxxx', 'yyyy', 'zzzz']\n",
            "[[2], [3], [4], [3], [4], [5], [4], [5], [6]]\n",
            "[[2, 3, 4, 5], [3, 4, 5, 6], [4, 5, 6, 7], [5, 6, 7, 8]]\n",
            "[(1, 1), (2, 1), (3, 1), (1, 2), (2, 2), (3, 2), (1, 3), (2, 3), (3, 3)]\n"
          ]
        }
      ]
    }
  ]
}