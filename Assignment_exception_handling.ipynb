{
  "nbformat": 4,
  "nbformat_minor": 0,
  "metadata": {
    "colab": {
      "name": "Assignment exception handling.ipynb",
      "provenance": []
    },
    "kernelspec": {
      "name": "python3",
      "display_name": "Python 3"
    },
    "language_info": {
      "name": "python"
    }
  },
  "cells": [
    {
      "cell_type": "code",
      "metadata": {
        "id": "1oFU5PMVStR_"
      },
      "source": [
        "#1. Write a function to compute 5/0 and use try/except to catch the exceptions."
      ],
      "execution_count": 1,
      "outputs": []
    },
    {
      "cell_type": "code",
      "metadata": {
        "colab": {
          "base_uri": "https://localhost:8080/",
          "height": 35
        },
        "id": "pwE4ZdyIS4bF",
        "outputId": "09d8fa27-1f98-4b7d-ab27-bb79fd45884b"
      },
      "source": [
        "def division(a,b):\n",
        "  try:\n",
        "    return(a/b)\n",
        "  except:\n",
        "    return(\"ZeroError:Divison by zero is not posiible\")\n",
        "a=5\n",
        "b=0\n",
        "division(a,b)\n"
      ],
      "execution_count": 2,
      "outputs": [
        {
          "output_type": "execute_result",
          "data": {
            "application/vnd.google.colaboratory.intrinsic+json": {
              "type": "string"
            },
            "text/plain": [
              "'ZeroError:Divison by zero is not posiible'"
            ]
          },
          "metadata": {},
          "execution_count": 2
        }
      ]
    },
    {
      "cell_type": "code",
      "metadata": {
        "id": "uV_KMl3BTcuh"
      },
      "source": [
        "#2. Implement a Python program to generate all sentences where subject is in [\"Americans\", \"Indians\"] and verb is in [\"Play\", \"watch\"] and the object is in [\"Baseball\",\"cricket\"]"
      ],
      "execution_count": 3,
      "outputs": []
    },
    {
      "cell_type": "code",
      "metadata": {
        "colab": {
          "base_uri": "https://localhost:8080/"
        },
        "id": "fm9IZY3HTj4c",
        "outputId": "0d480fa1-5173-4eb2-8269-bde9501f1a7f"
      },
      "source": [
        "subjects=[\"Americans\",\"Indians\"]\n",
        "verb=[\"play\",\"watch\"]\n",
        "objects=[\"Baseball\",\"cricket\"]\n",
        "\n",
        "l=[i+\" \"+j+\" \"+k for i in subjects for j in verb for k in objects]\n",
        "for n in l:\n",
        "  print(n)"
      ],
      "execution_count": 6,
      "outputs": [
        {
          "output_type": "stream",
          "name": "stdout",
          "text": [
            "Americans play Baseball\n",
            "Americans play cricket\n",
            "Americans watch Baseball\n",
            "Americans watch cricket\n",
            "Indians play Baseball\n",
            "Indians play cricket\n",
            "Indians watch Baseball\n",
            "Indians watch cricket\n"
          ]
        }
      ]
    }
  ]
}