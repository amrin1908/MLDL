{
  "nbformat": 4,
  "nbformat_minor": 0,
  "metadata": {
    "colab": {
      "name": "python_assignment4.ipynb",
      "provenance": []
    },
    "kernelspec": {
      "name": "python3",
      "display_name": "Python 3"
    },
    "language_info": {
      "name": "python"
    }
  },
  "cells": [
    {
      "cell_type": "code",
      "metadata": {
        "id": "vfQxbYKFBiJW"
      },
      "source": [
        "#1.1 Write a Python Program(with class concepts) to find the area of the triangle using the below formula\n",
        "#area=s(s-a)(s-b)(s-c)**0.5"
      ],
      "execution_count": 1,
      "outputs": []
    },
    {
      "cell_type": "code",
      "metadata": {
        "colab": {
          "base_uri": "https://localhost:8080/"
        },
        "id": "mow2x3yeCvp6",
        "outputId": "80924093-1a44-45f3-c107-087029827cec"
      },
      "source": [
        "class poly:\n",
        "  def __init__(self,a,b,c):\n",
        "    self.a=float(a)\n",
        "    self.b=float(b)\n",
        "    self.c=float(c)\n",
        "\n",
        "a=int(input(\"enter side a\"))\n",
        "b=int(input('enter side b'))\n",
        "c=int(input('enter side c'))\n",
        "class triangle(poly):\n",
        "  def __init__(self,a,b,c):\n",
        "    super().__init__(a,b,c)\n",
        "  def area(self):\n",
        "    s=(a+b+c)*0.5\n",
        "    return((s*(s-a)*(s-b)*(s-c))**0.5)\n",
        "t=triangle(a,b,c)\n",
        "print(t.area())"
      ],
      "execution_count": 13,
      "outputs": [
        {
          "output_type": "stream",
          "name": "stdout",
          "text": [
            "enter side a5\n",
            "enter side b4\n",
            "enter side c3\n",
            "6.0\n"
          ]
        }
      ]
    },
    {
      "cell_type": "code",
      "metadata": {
        "id": "_YVJ_vLCF2cj"
      },
      "source": [
        "#1.2 Write a function filter_long_words() that takes a list of words and an integer n and returns the list of words that are longer than n."
      ],
      "execution_count": 14,
      "outputs": []
    },
    {
      "cell_type": "code",
      "metadata": {
        "colab": {
          "base_uri": "https://localhost:8080/"
        },
        "id": "rBwlt6s8F771",
        "outputId": "102d2ee4-586a-438b-ee7b-6ce4a7e60bb7"
      },
      "source": [
        "def filter_long_words(l,n):\n",
        "  l1=[]\n",
        "  for i in l:\n",
        "    if len(i)>n:\n",
        "      l1.append(i)\n",
        "  return(l1)\n",
        "l2=[\"haha\",\"hehe\",\"hey\",\"hello\",\"horrible\"]\n",
        "filter_long_words(l2,3)"
      ],
      "execution_count": 15,
      "outputs": [
        {
          "output_type": "execute_result",
          "data": {
            "text/plain": [
              "['haha', 'hehe', 'hello', 'horrible']"
            ]
          },
          "metadata": {},
          "execution_count": 15
        }
      ]
    },
    {
      "cell_type": "code",
      "metadata": {
        "id": "6zORfb7NGd2h"
      },
      "source": [
        "#2.1 Write a Python program using function concept that maps list of words into a list of integers representing the lengths of the corresponding words."
      ],
      "execution_count": null,
      "outputs": []
    },
    {
      "cell_type": "code",
      "metadata": {
        "colab": {
          "base_uri": "https://localhost:8080/"
        },
        "id": "tIraPMw_GjLm",
        "outputId": "535983c6-a178-4812-82dd-330b09f342d6"
      },
      "source": [
        "def lengthoflist(l):\n",
        "  l2=[]\n",
        "  for i in l:\n",
        "    l2.append(len(i))\n",
        "  return(l2)\n",
        "l3=[\"abc\",\"def\",\"gh\",\"pqrstu\",\"po\"]\n",
        "lengthoflist(l3)"
      ],
      "execution_count": 16,
      "outputs": [
        {
          "output_type": "execute_result",
          "data": {
            "text/plain": [
              "[3, 3, 2, 6, 2]"
            ]
          },
          "metadata": {},
          "execution_count": 16
        }
      ]
    },
    {
      "cell_type": "code",
      "metadata": {
        "id": "Q0QeJgmaHYZu"
      },
      "source": [
        "#2.2 Write a Python function which takes a character (i.e. a string of length 1) and returns True if it is a vowel, False otherwise."
      ],
      "execution_count": 17,
      "outputs": []
    },
    {
      "cell_type": "code",
      "metadata": {
        "colab": {
          "base_uri": "https://localhost:8080/"
        },
        "id": "IPirPpdmHg8e",
        "outputId": "d6bc6c2d-1285-41c5-e729-4151e12ed63a"
      },
      "source": [
        "x=input('enter a character')\n",
        "def is_vowel(x):\n",
        "  l=[\"a\",\"e\",\"i\",\"o\",\"u\",\"A\",\"E\",\"I\",\"O\",\"U\"]\n",
        "  if x in l:\n",
        "    return(True)\n",
        "  else:\n",
        "    return(False)\n",
        "is_vowel(x)"
      ],
      "execution_count": 20,
      "outputs": [
        {
          "name": "stdout",
          "output_type": "stream",
          "text": [
            "enter a charactera\n"
          ]
        },
        {
          "output_type": "execute_result",
          "data": {
            "text/plain": [
              "True"
            ]
          },
          "metadata": {},
          "execution_count": 20
        }
      ]
    }
  ]
}